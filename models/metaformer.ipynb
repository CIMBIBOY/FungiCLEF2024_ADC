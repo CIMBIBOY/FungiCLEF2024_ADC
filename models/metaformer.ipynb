{
 "cells": [
  {
   "cell_type": "code",
   "execution_count": null,
   "metadata": {},
   "outputs": [],
   "source": [
    "import torch\n",
    "from torch import nn\n",
    "from torch.utils.data import Dataset, DataLoader\n",
    "from torchvision import transforms\n",
    "from PIL import Image\n",
    "import os\n",
    "from src.dataset import FungiDataset\n",
    "\n",
    "# Import MetaFormer components\n",
    "from models.MetaFormer.models import MetaFG  # Adjust import path if necessary\n",
    "from src.dataset import FungiDataset"
   ]
  },
  {
   "cell_type": "code",
   "execution_count": null,
   "metadata": {},
   "outputs": [],
   "source": [
    "# Path to pretrained weights and data directory\n",
    "pretrained_weights = \"model_data/metafg_0_21k_224.pth\"\n",
    "device = torch.device(\"cuda\" if torch.cuda.is_available() else \"cpu\")\n",
    "\n",
    "# Define the MetaFormer model\n",
    "model = MetaFG(\n",
    "    img_size=224,\n",
    "    num_classes=100,  # Update to the number of classes in your dataset\n",
    ")\n",
    "model.to(device)\n",
    "\n",
    "# Load pretrained weights\n",
    "state_dict = torch.load(pretrained_weights, map_location=\"cpu\")\n",
    "model.load_state_dict(state_dict, strict=False)\n",
    "\n",
    "# Define data transforms\n",
    "preprocess = transforms.Compose([\n",
    "    transforms.Resize((224, 224)),\n",
    "    transforms.ToTensor(),\n",
    "    transforms.Normalize(mean=[0.485, 0.456, 0.406], std=[0.229, 0.224, 0.225]),\n",
    "])"
   ]
  },
  {
   "cell_type": "code",
   "execution_count": null,
   "metadata": {},
   "outputs": [],
   "source": [
    "config_train = {\n",
    "    \"image_dir\": \"/Users/czimbermark/Documents/Egyetem/Adatelemzes/Nagyhazi/FungiCLEF2024_ADC/data/x_train\",\n",
    "    \"labels_path\": \"/Users/czimbermark/Documents/Egyetem/Adatelemzes/Nagyhazi/FungiCLEF2024_ADC/data/train_metadata_height.csv\",\n",
    "    \"train\": True,\n",
    "    \"pre_load\": True,\n",
    "    \"batch_size\": 32,\n",
    "    \"crop_height\": 16,\n",
    "    \"interpolate\": \"bilinear\",\n",
    "    \"out_size\": [224, 224]\n",
    "}\n",
    "\n",
    "config_val = {\n",
    "    \"image_dir\": \"/Users/czimbermark/Documents/Egyetem/Adatelemzes/Nagyhazi/FungiCLEF2024_ADC/data/x_train\",\n",
    "    \"labels_path\": \"/Users/czimbermark/Documents/Egyetem/Adatelemzes/Nagyhazi/FungiCLEF2024_ADC/data/train_metadata_height.csv\",\n",
    "    \"train\": False,\n",
    "    \"pre_load\": True,\n",
    "    \"batch_size\": 32,\n",
    "    \"crop_height\": 16,\n",
    "    \"interpolate\": \"bilinear\",\n",
    "    \"out_size\": [224, 224]\n",
    "}\n",
    "\n",
    "# Initialize datasets using configuration dictionaries\n",
    "train_dataset = FungiDataset(config_train)\n",
    "print(len(train_dataset))\n",
    "\n",
    "val_dataset = FungiDataset(config_val)\n",
    "print(len(val_dataset))\n",
    "    \n",
    "# Retrieve DataLoader\n",
    "train_loader = train_dataset.get_loader()\n",
    "val_loader = val_dataset.get_loader()"
   ]
  },
  {
   "cell_type": "code",
   "execution_count": null,
   "metadata": {},
   "outputs": [],
   "source": [
    "# Define loss function and optimizer\n",
    "criterion = nn.CrossEntropyLoss()\n",
    "optimizer = torch.optim.Adam(model.parameters(), lr=1e-4)\n",
    "scheduler = torch.optim.lr_scheduler.StepLR(optimizer, step_size=5, gamma=0.1)"
   ]
  },
  {
   "cell_type": "code",
   "execution_count": null,
   "metadata": {},
   "outputs": [],
   "source": [
    "# Training loop\n",
    "num_epochs = 10\n",
    "for epoch in range(num_epochs):\n",
    "    model.train()\n",
    "    running_loss = 0.0\n",
    "    for images, labels in train_loader:\n",
    "        images, labels = images.to(device), labels.to(device)\n",
    "        optimizer.zero_grad()\n",
    "        outputs = model(images)\n",
    "        loss = criterion(outputs, labels)\n",
    "        loss.backward()\n",
    "        optimizer.step()\n",
    "        running_loss += loss.item()\n",
    "\n",
    "    print(f\"Epoch [{epoch+1}/{num_epochs}], Loss: {running_loss / len(train_loader)}\")\n",
    "    scheduler.step()\n",
    "\n",
    "    # Validation loop\n",
    "    model.eval()\n",
    "    total, correct = 0, 0\n",
    "    with torch.no_grad():\n",
    "        for images, labels in val_loader:\n",
    "            images, labels = images.to(device), labels.to(device)\n",
    "            outputs = model(images)\n",
    "            _, predicted = torch.max(outputs, 1)\n",
    "            total += labels.size(0)\n",
    "            correct += (predicted == labels).sum().item()\n",
    "    accuracy = 100 * correct / total\n",
    "    print(f\"Validation Accuracy: {accuracy:.2f}%\")\n",
    "\n",
    "# Save fine-tuned model\n",
    "torch.save(model.state_dict(), \"fine_tuned_metaformer.pth\")\n",
    "print(\"Fine-tuned model saved to fine_tuned_metaformer.pth\")"
   ]
  }
 ],
 "metadata": {
  "kernelspec": {
   "display_name": "Python 3",
   "language": "python",
   "name": "python3"
  },
  "language_info": {
   "name": "python",
   "version": "3.12.2"
  }
 },
 "nbformat": 4,
 "nbformat_minor": 2
}

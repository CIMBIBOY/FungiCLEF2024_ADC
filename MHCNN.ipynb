{
 "cells": [
  {
   "cell_type": "code",
   "execution_count": 2,
   "metadata": {},
   "outputs": [],
   "source": [
    "import torch\n",
    "from torch.utils.data import DataLoader\n",
    "from datasets.fungidataset import build_dataset\n",
    "from torch import nn\n",
    "IMAGEDIR = \"/Users/koksziszdave/Downloads/fungi_images\"\n",
    "LABELDIR = \"/Users/koksziszdave/Downloads/fungi_train_metadata.csv\"\n",
    "\n",
    "args = {\n",
    "    \"image_dir\": IMAGEDIR,\n",
    "    \"labels_path\": LABELDIR,\n",
    "    \"pre_load\": False,\n",
    "    \"batch_size\": 32\n",
    "}\n",
    "\n",
    "train_loader, valid_loader = build_dataset(args)\n",
    "\n",
    "num_classes = 100\n"
   ]
  },
  {
   "cell_type": "code",
   "execution_count": 10,
   "metadata": {},
   "outputs": [
    {
     "name": "stdout",
     "output_type": "stream",
     "text": [
      "Epoch 1/20\n"
     ]
    },
    {
     "name": "stderr",
     "output_type": "stream",
     "text": [
      "Training: 100%|██████████| 645/645 [44:59<00:00,  4.19s/it]\n"
     ]
    },
    {
     "name": "stdout",
     "output_type": "stream",
     "text": [
      "Train Loss: 4.8220, Train Acc: 0.0338\n"
     ]
    },
    {
     "name": "stderr",
     "output_type": "stream",
     "text": [
      "Validation: 100%|██████████| 162/162 [04:57<00:00,  1.83s/it]\n"
     ]
    },
    {
     "name": "stdout",
     "output_type": "stream",
     "text": [
      "Val Loss: 4.5951, Val Acc: 0.0565\n",
      "Model saved.\n",
      "Epoch 2/20\n"
     ]
    },
    {
     "name": "stderr",
     "output_type": "stream",
     "text": [
      "Training: 100%|██████████| 645/645 [45:02<00:00,  4.19s/it]\n"
     ]
    },
    {
     "name": "stdout",
     "output_type": "stream",
     "text": [
      "Train Loss: 4.5382, Train Acc: 0.0601\n"
     ]
    },
    {
     "name": "stderr",
     "output_type": "stream",
     "text": [
      "Validation: 100%|██████████| 162/162 [04:43<00:00,  1.75s/it]\n"
     ]
    },
    {
     "name": "stdout",
     "output_type": "stream",
     "text": [
      "Val Loss: 4.3978, Val Acc: 0.0778\n",
      "Model saved.\n",
      "Epoch 3/20\n"
     ]
    },
    {
     "name": "stderr",
     "output_type": "stream",
     "text": [
      "Training: 100%|██████████| 645/645 [43:40<00:00,  4.06s/it]\n"
     ]
    },
    {
     "name": "stdout",
     "output_type": "stream",
     "text": [
      "Train Loss: 4.3748, Train Acc: 0.0760\n"
     ]
    },
    {
     "name": "stderr",
     "output_type": "stream",
     "text": [
      "Validation: 100%|██████████| 162/162 [04:44<00:00,  1.75s/it]\n"
     ]
    },
    {
     "name": "stdout",
     "output_type": "stream",
     "text": [
      "Val Loss: 4.2434, Val Acc: 0.0899\n",
      "Model saved.\n",
      "Epoch 4/20\n"
     ]
    },
    {
     "name": "stderr",
     "output_type": "stream",
     "text": [
      "Training: 100%|██████████| 645/645 [44:17<00:00,  4.12s/it]\n"
     ]
    },
    {
     "name": "stdout",
     "output_type": "stream",
     "text": [
      "Train Loss: 4.2341, Train Acc: 0.0915\n"
     ]
    },
    {
     "name": "stderr",
     "output_type": "stream",
     "text": [
      "Validation: 100%|██████████| 162/162 [04:47<00:00,  1.77s/it]\n"
     ]
    },
    {
     "name": "stdout",
     "output_type": "stream",
     "text": [
      "Val Loss: 4.1002, Val Acc: 0.1219\n",
      "Model saved.\n",
      "Epoch 5/20\n"
     ]
    },
    {
     "name": "stderr",
     "output_type": "stream",
     "text": [
      "Training: 100%|██████████| 645/645 [1:04:47<00:00,  6.03s/it]  \n"
     ]
    },
    {
     "name": "stdout",
     "output_type": "stream",
     "text": [
      "Train Loss: 4.1111, Train Acc: 0.1079\n"
     ]
    },
    {
     "name": "stderr",
     "output_type": "stream",
     "text": [
      "Validation: 100%|██████████| 162/162 [04:53<00:00,  1.81s/it]\n"
     ]
    },
    {
     "name": "stdout",
     "output_type": "stream",
     "text": [
      "Val Loss: 3.9817, Val Acc: 0.1353\n",
      "Model saved.\n",
      "Epoch 6/20\n"
     ]
    },
    {
     "name": "stderr",
     "output_type": "stream",
     "text": [
      "Training: 100%|██████████| 645/645 [45:35<00:00,  4.24s/it]\n"
     ]
    },
    {
     "name": "stdout",
     "output_type": "stream",
     "text": [
      "Train Loss: 3.9957, Train Acc: 0.1254\n"
     ]
    },
    {
     "name": "stderr",
     "output_type": "stream",
     "text": [
      "Validation: 100%|██████████| 162/162 [04:47<00:00,  1.77s/it]\n"
     ]
    },
    {
     "name": "stdout",
     "output_type": "stream",
     "text": [
      "Val Loss: 3.9933, Val Acc: 0.1331\n",
      "Epoch 7/20\n"
     ]
    },
    {
     "name": "stderr",
     "output_type": "stream",
     "text": [
      "Training: 100%|██████████| 645/645 [44:05<00:00,  4.10s/it]\n"
     ]
    },
    {
     "name": "stdout",
     "output_type": "stream",
     "text": [
      "Train Loss: 3.9153, Train Acc: 0.1332\n"
     ]
    },
    {
     "name": "stderr",
     "output_type": "stream",
     "text": [
      "Validation: 100%|██████████| 162/162 [04:54<00:00,  1.82s/it]\n"
     ]
    },
    {
     "name": "stdout",
     "output_type": "stream",
     "text": [
      "Val Loss: 3.7790, Val Acc: 0.1574\n",
      "Model saved.\n",
      "Epoch 8/20\n"
     ]
    },
    {
     "name": "stderr",
     "output_type": "stream",
     "text": [
      "Training: 100%|██████████| 645/645 [49:15<00:00,  4.58s/it]\n"
     ]
    },
    {
     "name": "stdout",
     "output_type": "stream",
     "text": [
      "Train Loss: 3.8439, Train Acc: 0.1446\n"
     ]
    },
    {
     "name": "stderr",
     "output_type": "stream",
     "text": [
      "Validation: 100%|██████████| 162/162 [05:45<00:00,  2.13s/it]\n"
     ]
    },
    {
     "name": "stdout",
     "output_type": "stream",
     "text": [
      "Val Loss: 3.7128, Val Acc: 0.1729\n",
      "Model saved.\n",
      "Epoch 9/20\n"
     ]
    },
    {
     "name": "stderr",
     "output_type": "stream",
     "text": [
      "Training: 100%|██████████| 645/645 [46:46<00:00,  4.35s/it] \n"
     ]
    },
    {
     "name": "stdout",
     "output_type": "stream",
     "text": [
      "Train Loss: 3.7778, Train Acc: 0.1515\n"
     ]
    },
    {
     "name": "stderr",
     "output_type": "stream",
     "text": [
      "Validation: 100%|██████████| 162/162 [05:24<00:00,  2.00s/it]\n"
     ]
    },
    {
     "name": "stdout",
     "output_type": "stream",
     "text": [
      "Val Loss: 3.6747, Val Acc: 0.1721\n",
      "Model saved.\n",
      "Epoch 10/20\n"
     ]
    },
    {
     "name": "stderr",
     "output_type": "stream",
     "text": [
      "Training: 100%|██████████| 645/645 [45:29<00:00,  4.23s/it]\n"
     ]
    },
    {
     "name": "stdout",
     "output_type": "stream",
     "text": [
      "Train Loss: 3.7246, Train Acc: 0.1592\n"
     ]
    },
    {
     "name": "stderr",
     "output_type": "stream",
     "text": [
      "Validation: 100%|██████████| 162/162 [04:46<00:00,  1.77s/it]\n"
     ]
    },
    {
     "name": "stdout",
     "output_type": "stream",
     "text": [
      "Val Loss: 3.6308, Val Acc: 0.1972\n",
      "Model saved.\n",
      "Epoch 11/20\n"
     ]
    },
    {
     "name": "stderr",
     "output_type": "stream",
     "text": [
      "Training: 100%|██████████| 645/645 [47:18<00:00,  4.40s/it]\n"
     ]
    },
    {
     "name": "stdout",
     "output_type": "stream",
     "text": [
      "Train Loss: 3.6570, Train Acc: 0.1688\n"
     ]
    },
    {
     "name": "stderr",
     "output_type": "stream",
     "text": [
      "Validation: 100%|██████████| 162/162 [05:48<00:00,  2.15s/it]\n"
     ]
    },
    {
     "name": "stdout",
     "output_type": "stream",
     "text": [
      "Val Loss: 3.5959, Val Acc: 0.1962\n",
      "Model saved.\n",
      "Epoch 12/20\n"
     ]
    },
    {
     "name": "stderr",
     "output_type": "stream",
     "text": [
      "Training: 100%|██████████| 645/645 [46:40<00:00,  4.34s/it]\n"
     ]
    },
    {
     "name": "stdout",
     "output_type": "stream",
     "text": [
      "Train Loss: 3.6124, Train Acc: 0.1811\n"
     ]
    },
    {
     "name": "stderr",
     "output_type": "stream",
     "text": [
      "Validation: 100%|██████████| 162/162 [05:00<00:00,  1.85s/it]\n"
     ]
    },
    {
     "name": "stdout",
     "output_type": "stream",
     "text": [
      "Val Loss: 3.5571, Val Acc: 0.2030\n",
      "Model saved.\n",
      "Epoch 13/20\n"
     ]
    },
    {
     "name": "stderr",
     "output_type": "stream",
     "text": [
      "Training: 100%|██████████| 645/645 [49:32<00:00,  4.61s/it]\n"
     ]
    },
    {
     "name": "stdout",
     "output_type": "stream",
     "text": [
      "Train Loss: 3.5636, Train Acc: 0.1910\n"
     ]
    },
    {
     "name": "stderr",
     "output_type": "stream",
     "text": [
      "Validation: 100%|██████████| 162/162 [05:57<00:00,  2.21s/it]\n"
     ]
    },
    {
     "name": "stdout",
     "output_type": "stream",
     "text": [
      "Val Loss: 3.4837, Val Acc: 0.2228\n",
      "Model saved.\n",
      "Epoch 14/20\n"
     ]
    },
    {
     "name": "stderr",
     "output_type": "stream",
     "text": [
      "Training: 100%|██████████| 645/645 [43:44<00:00,  4.07s/it]\n"
     ]
    },
    {
     "name": "stdout",
     "output_type": "stream",
     "text": [
      "Train Loss: 3.5173, Train Acc: 0.1962\n"
     ]
    },
    {
     "name": "stderr",
     "output_type": "stream",
     "text": [
      "Validation: 100%|██████████| 162/162 [04:48<00:00,  1.78s/it]\n"
     ]
    },
    {
     "name": "stdout",
     "output_type": "stream",
     "text": [
      "Val Loss: 3.4562, Val Acc: 0.2241\n",
      "Model saved.\n",
      "Epoch 15/20\n"
     ]
    },
    {
     "name": "stderr",
     "output_type": "stream",
     "text": [
      "Training: 100%|██████████| 645/645 [42:13<00:00,  3.93s/it]\n"
     ]
    },
    {
     "name": "stdout",
     "output_type": "stream",
     "text": [
      "Train Loss: 3.4686, Train Acc: 0.2051\n"
     ]
    },
    {
     "name": "stderr",
     "output_type": "stream",
     "text": [
      "Validation: 100%|██████████| 162/162 [04:48<00:00,  1.78s/it]\n"
     ]
    },
    {
     "name": "stdout",
     "output_type": "stream",
     "text": [
      "Val Loss: 3.4794, Val Acc: 0.2179\n",
      "Epoch 16/20\n"
     ]
    },
    {
     "name": "stderr",
     "output_type": "stream",
     "text": [
      "Training: 100%|██████████| 645/645 [45:20<00:00,  4.22s/it]\n"
     ]
    },
    {
     "name": "stdout",
     "output_type": "stream",
     "text": [
      "Train Loss: 3.4305, Train Acc: 0.2112\n"
     ]
    },
    {
     "name": "stderr",
     "output_type": "stream",
     "text": [
      "Validation: 100%|██████████| 162/162 [05:11<00:00,  1.92s/it]\n"
     ]
    },
    {
     "name": "stdout",
     "output_type": "stream",
     "text": [
      "Val Loss: 3.3857, Val Acc: 0.2352\n",
      "Model saved.\n",
      "Epoch 17/20\n"
     ]
    },
    {
     "name": "stderr",
     "output_type": "stream",
     "text": [
      "Training: 100%|██████████| 645/645 [45:37<00:00,  4.24s/it]\n"
     ]
    },
    {
     "name": "stdout",
     "output_type": "stream",
     "text": [
      "Train Loss: 3.3875, Train Acc: 0.2199\n"
     ]
    },
    {
     "name": "stderr",
     "output_type": "stream",
     "text": [
      "Validation: 100%|██████████| 162/162 [05:14<00:00,  1.94s/it]\n"
     ]
    },
    {
     "name": "stdout",
     "output_type": "stream",
     "text": [
      "Val Loss: 3.3038, Val Acc: 0.2434\n",
      "Model saved.\n",
      "Epoch 18/20\n"
     ]
    },
    {
     "name": "stderr",
     "output_type": "stream",
     "text": [
      "Training: 100%|██████████| 645/645 [45:25<00:00,  4.23s/it]\n"
     ]
    },
    {
     "name": "stdout",
     "output_type": "stream",
     "text": [
      "Train Loss: 3.3510, Train Acc: 0.2295\n"
     ]
    },
    {
     "name": "stderr",
     "output_type": "stream",
     "text": [
      "Validation: 100%|██████████| 162/162 [04:59<00:00,  1.85s/it]\n"
     ]
    },
    {
     "name": "stdout",
     "output_type": "stream",
     "text": [
      "Val Loss: 3.3854, Val Acc: 0.2377\n",
      "Epoch 19/20\n"
     ]
    },
    {
     "name": "stderr",
     "output_type": "stream",
     "text": [
      "Training: 100%|██████████| 645/645 [47:00<00:00,  4.37s/it]\n"
     ]
    },
    {
     "name": "stdout",
     "output_type": "stream",
     "text": [
      "Train Loss: 3.3166, Train Acc: 0.2313\n"
     ]
    },
    {
     "name": "stderr",
     "output_type": "stream",
     "text": [
      "Validation: 100%|██████████| 162/162 [05:24<00:00,  2.00s/it]\n"
     ]
    },
    {
     "name": "stdout",
     "output_type": "stream",
     "text": [
      "Val Loss: 3.2199, Val Acc: 0.2641\n",
      "Model saved.\n",
      "Epoch 20/20\n"
     ]
    },
    {
     "name": "stderr",
     "output_type": "stream",
     "text": [
      "Training: 100%|██████████| 645/645 [45:37<00:00,  4.24s/it]\n"
     ]
    },
    {
     "name": "stdout",
     "output_type": "stream",
     "text": [
      "Train Loss: 3.2740, Train Acc: 0.2399\n"
     ]
    },
    {
     "name": "stderr",
     "output_type": "stream",
     "text": [
      "Validation: 100%|██████████| 162/162 [05:09<00:00,  1.91s/it]"
     ]
    },
    {
     "name": "stdout",
     "output_type": "stream",
     "text": [
      "Val Loss: 3.2417, Val Acc: 0.2565\n",
      "Training complete. Best validation loss: 3.2199200136484687\n"
     ]
    },
    {
     "name": "stderr",
     "output_type": "stream",
     "text": [
      "\n"
     ]
    }
   ],
   "source": [
    "import torch\n",
    "import torch.nn as nn\n",
    "import torch.optim as optim\n",
    "from torch.optim.lr_scheduler import ReduceLROnPlateau\n",
    "import torch.nn.functional as F\n",
    "from tqdm import tqdm\n",
    "import numpy as np\n",
    "\n",
    "\n",
    "class MultiTaskFungiNet(nn.Module):\n",
    "    def __init__(self, num_classes, backbone_channels=64):\n",
    "        \"\"\"\n",
    "        Multi-task CNN model for Fungi dataset.\n",
    "\n",
    "        Args:\n",
    "            num_classes (int): Number of fungal species classes.\n",
    "            backbone_channels (int): Number of initial channels in the CNN backbone.\n",
    "        \"\"\"\n",
    "        super(MultiTaskFungiNet, self).__init__()\n",
    "\n",
    "        # CNN backbone\n",
    "        self.encoder = nn.Sequential(\n",
    "            nn.Conv2d(3, backbone_channels, kernel_size=3, padding=1),\n",
    "            nn.ReLU(),\n",
    "            nn.BatchNorm2d(backbone_channels),\n",
    "            nn.MaxPool2d(2),\n",
    "            nn.Conv2d(backbone_channels, backbone_channels * 2, kernel_size=3, padding=1),\n",
    "            nn.ReLU(),\n",
    "            nn.BatchNorm2d(backbone_channels * 2),\n",
    "            nn.MaxPool2d(2),\n",
    "            nn.Conv2d(backbone_channels * 2, backbone_channels * 4, kernel_size=3, padding=1),\n",
    "            nn.ReLU(),\n",
    "            nn.BatchNorm2d(backbone_channels * 4),\n",
    "            nn.AdaptiveAvgPool2d((1, 1)),\n",
    "        )\n",
    "\n",
    "        # Flatten layer\n",
    "        self.flatten = nn.Flatten()\n",
    "\n",
    "        # Multi-task heads\n",
    "        feature_dim = backbone_channels * 4\n",
    "        self.sem_cls_head = nn.Sequential(\n",
    "            nn.Linear(feature_dim, 128),\n",
    "            nn.ReLU(),\n",
    "            nn.Dropout(0.3),\n",
    "            nn.Linear(128, num_classes),\n",
    "        )\n",
    "        self.toxicity_head = nn.Sequential(\n",
    "            nn.Linear(feature_dim, 128),\n",
    "            nn.ReLU(),\n",
    "            nn.Dropout(0.3),\n",
    "            nn.Linear(128, 1),\n",
    "        )\n",
    "\n",
    "    def forward(self, x):\n",
    "        x = x.permute(0, 3, 1, 2)\n",
    "        features = self.encoder(x)\n",
    "        features = self.flatten(features)\n",
    "\n",
    "        sem_cls_output = self.sem_cls_head(features)\n",
    "        toxicity_output = self.toxicity_head(features)\n",
    "\n",
    "        return {\"sem_cls\": sem_cls_output, \"toxicity\": toxicity_output}\n",
    "\n",
    "\n",
    "def train_epoch(model, train_loader, optimizer, criterion, device):\n",
    "    model.train()\n",
    "    running_loss = 0.0\n",
    "    correct_cls = 0\n",
    "    total_cls = 0\n",
    "    for images, (class_ids, toxicities) in tqdm(train_loader, desc=\"Training\"):\n",
    "        images = images.to(device)\n",
    "        class_ids = class_ids.to(device)\n",
    "        toxicities = toxicities.float().unsqueeze(1).to(device)\n",
    "\n",
    "        # Forward pass\n",
    "        outputs = model(images)\n",
    "        loss_cls = criterion[\"classification\"](outputs[\"sem_cls\"], class_ids)\n",
    "        loss_tox = criterion[\"toxicity\"](outputs[\"toxicity\"], toxicities)\n",
    "        loss = loss_cls + loss_tox\n",
    "\n",
    "        # Backward pass\n",
    "        optimizer.zero_grad()\n",
    "        loss.backward()\n",
    "        optimizer.step()\n",
    "\n",
    "        # Update metrics\n",
    "        running_loss += loss.item()\n",
    "        _, predicted_cls = torch.max(outputs[\"sem_cls\"], 1)\n",
    "        class_ids = torch.argmax(class_ids, dim=1)\n",
    "        correct_cls += (predicted_cls == class_ids).sum().item()\n",
    "        total_cls += class_ids.size(0)\n",
    "        \n",
    "\n",
    "    epoch_loss = running_loss / len(train_loader)\n",
    "    accuracy_cls = correct_cls / total_cls\n",
    "    return epoch_loss, accuracy_cls\n",
    "\n",
    "\n",
    "def validate_epoch(model, valid_loader, criterion, device):\n",
    "    model.eval()\n",
    "    running_loss = 0.0\n",
    "    correct_cls = 0\n",
    "    total_cls = 0\n",
    "    with torch.no_grad():\n",
    "        for images, (class_ids, toxicities)in tqdm(valid_loader, desc=\"Validation\"):\n",
    "            images = images.to(device)\n",
    "            class_ids = class_ids.to(device)\n",
    "            toxicities = toxicities.float().unsqueeze(1).to(device)\n",
    "\n",
    "            # Forward pass\n",
    "            outputs = model(images)\n",
    "            loss_cls = criterion[\"classification\"](outputs[\"sem_cls\"], class_ids)\n",
    "            loss_tox = criterion[\"toxicity\"](outputs[\"toxicity\"], toxicities)\n",
    "            loss = loss_cls + loss_tox\n",
    "\n",
    "            # Update metrics\n",
    "            running_loss += loss.item()\n",
    "            _, predicted_cls = torch.max(outputs[\"sem_cls\"], 1)\n",
    "            class_ids = torch.argmax(class_ids, dim=1)\n",
    "            correct_cls += (predicted_cls == class_ids).sum().item()\n",
    "            total_cls += class_ids.size(0)\n",
    "            \n",
    "    \n",
    "\n",
    "    epoch_loss = running_loss / len(valid_loader)\n",
    "    accuracy_cls = correct_cls / total_cls\n",
    "    return epoch_loss, accuracy_cls\n",
    "\n",
    "\n",
    "def train_model(model, train_loader, valid_loader, num_epochs, device):\n",
    "    model.to(device)\n",
    "    optimizer = optim.Adam(model.parameters(), lr=1e-4, weight_decay=1e-5)\n",
    "    scheduler = ReduceLROnPlateau(optimizer, mode=\"min\", factor=0.5, patience=3, verbose=True)\n",
    "\n",
    "    criterion = {\n",
    "        \"classification\": nn.CrossEntropyLoss(),\n",
    "        \"toxicity\": nn.BCEWithLogitsLoss(),\n",
    "    }\n",
    "\n",
    "    best_val_loss = float(\"inf\")\n",
    "    for epoch in range(num_epochs):\n",
    "        print(f\"Epoch {epoch + 1}/{num_epochs}\")\n",
    "\n",
    "        train_loss, train_acc = train_epoch(model, train_loader, optimizer, criterion, device)\n",
    "        \n",
    "        print(f\"Train Loss: {train_loss:.4f}, Train Acc: {train_acc:.4f}\")\n",
    "\n",
    "        val_loss, val_acc = validate_epoch(model, valid_loader, criterion, device)\n",
    "        print(f\"Val Loss: {val_loss:.4f}, Val Acc: {val_acc:.4f}\")\n",
    "\n",
    "        scheduler.step(val_loss)\n",
    "\n",
    "        if val_loss < best_val_loss:\n",
    "            best_val_loss = val_loss\n",
    "            torch.save(model.state_dict(), \"best_model.pth\")\n",
    "            print(\"Model saved.\")\n",
    "\n",
    "    print(\"Training complete. Best validation loss:\", best_val_loss)\n",
    "\n",
    "\n",
    "model = MultiTaskFungiNet(num_classes=num_classes)\n",
    "device = torch.device(\"cuda\" if torch.cuda.is_available() else \"cpu\")\n",
    "train_model(model, train_loader, valid_loader, num_epochs=20, device=device)"
   ]
  },
  {
   "cell_type": "code",
   "execution_count": 11,
   "metadata": {},
   "outputs": [
    {
     "name": "stdout",
     "output_type": "stream",
     "text": [
      "MultiTaskFungiNet(\n",
      "  (encoder): Sequential(\n",
      "    (0): Conv2d(3, 64, kernel_size=(3, 3), stride=(1, 1), padding=(1, 1))\n",
      "    (1): ReLU()\n",
      "    (2): BatchNorm2d(64, eps=1e-05, momentum=0.1, affine=True, track_running_stats=True)\n",
      "    (3): MaxPool2d(kernel_size=2, stride=2, padding=0, dilation=1, ceil_mode=False)\n",
      "    (4): Conv2d(64, 128, kernel_size=(3, 3), stride=(1, 1), padding=(1, 1))\n",
      "    (5): ReLU()\n",
      "    (6): BatchNorm2d(128, eps=1e-05, momentum=0.1, affine=True, track_running_stats=True)\n",
      "    (7): MaxPool2d(kernel_size=2, stride=2, padding=0, dilation=1, ceil_mode=False)\n",
      "    (8): Conv2d(128, 256, kernel_size=(3, 3), stride=(1, 1), padding=(1, 1))\n",
      "    (9): ReLU()\n",
      "    (10): BatchNorm2d(256, eps=1e-05, momentum=0.1, affine=True, track_running_stats=True)\n",
      "    (11): AdaptiveAvgPool2d(output_size=(1, 1))\n",
      "  )\n",
      "  (flatten): Flatten(start_dim=1, end_dim=-1)\n",
      "  (sem_cls_head): Sequential(\n",
      "    (0): Linear(in_features=256, out_features=128, bias=True)\n",
      "    (1): ReLU()\n",
      "    (2): Dropout(p=0.3, inplace=False)\n",
      "    (3): Linear(in_features=128, out_features=100, bias=True)\n",
      "  )\n",
      "  (toxicity_head): Sequential(\n",
      "    (0): Linear(in_features=256, out_features=128, bias=True)\n",
      "    (1): ReLU()\n",
      "    (2): Dropout(p=0.3, inplace=False)\n",
      "    (3): Linear(in_features=128, out_features=1, bias=True)\n",
      "  )\n",
      ")\n"
     ]
    }
   ],
   "source": [
    "print(model)"
   ]
  },
  {
   "cell_type": "code",
   "execution_count": 43,
   "metadata": {},
   "outputs": [
    {
     "name": "stderr",
     "output_type": "stream",
     "text": [
      "Evaluation: 100%|██████████| 162/162 [04:16<00:00,  1.58s/it]"
     ]
    },
    {
     "name": "stdout",
     "output_type": "stream",
     "text": [
      "\n",
      "Classification Metrics:\n",
      "\n",
      "Confusion Matrix:\n",
      "[[24 10  1 ...  0  0  0]\n",
      " [17 24  2 ...  0  1  0]\n",
      " [ 0  2  8 ...  0  0  1]\n",
      " ...\n",
      " [ 0  0  0 ... 15  0  0]\n",
      " [ 1  7  4 ...  0  0  0]\n",
      " [ 0  0  0 ...  0  0 25]]\n"
     ]
    },
    {
     "name": "stderr",
     "output_type": "stream",
     "text": [
      "\n"
     ]
    },
    {
     "data": {
      "image/png": "[encoded data removed]",
      "text/plain": [
       "<Figure size 1000x800 with 2 Axes>"
      ]
     },
     "metadata": {},
     "output_type": "display_data"
    },
    {
     "name": "stdout",
     "output_type": "stream",
     "text": [
      "\n",
      "Toxicity Metrics:\n",
      "              precision    recall  f1-score   support\n",
      "\n",
      "           0       0.92      1.00      0.96      4722\n",
      "           1       0.73      0.06      0.10       430\n",
      "\n",
      "    accuracy                           0.92      5152\n",
      "   macro avg       0.82      0.53      0.53      5152\n",
      "weighted avg       0.90      0.92      0.89      5152\n",
      "\n"
     ]
    },
    {
     "data": {
      "image/png": "[encoded data removed]",
      "text/plain": [
       "<Figure size 1000x800 with 2 Axes>"
      ]
     },
     "metadata": {},
     "output_type": "display_data"
    }
   ],
   "source": [
    "from sklearn.metrics import classification_report, confusion_matrix, mean_squared_error\n",
    "import matplotlib.pyplot as plt\n",
    "import torch\n",
    "import numpy as np\n",
    "\n",
    "def evaluate_model(model, data_loader, device):\n",
    "    \"\"\"\n",
    "    Evaluates the model on the given data loader and prints classification metrics.\n",
    "\n",
    "    Args:\n",
    "        model (nn.Module): Trained model.\n",
    "        data_loader (DataLoader): DataLoader for evaluation data.\n",
    "        device (torch.device): Device to perform computations on.\n",
    "    \"\"\"\n",
    "    model.to(device)\n",
    "    model.eval()\n",
    "\n",
    "    all_targets_cls = []\n",
    "    all_preds_cls = []\n",
    "    all_targets_tox = []\n",
    "    all_preds_tox = []\n",
    "\n",
    "    with torch.no_grad():\n",
    "        for images, (class_ids, toxicities) in tqdm(data_loader, desc=\"Evaluation\"):\n",
    "            if(images.shape[0]<32):\n",
    "                continue\n",
    "            images = images.to(device)\n",
    "            class_ids = class_ids.to(device)\n",
    "            \n",
    "\n",
    "            # Forward pass\n",
    "            outputs = model(images)\n",
    "\n",
    "            # Collect predictions and ground truths for classification\n",
    "            _, predicted_cls = torch.max(outputs[\"sem_cls\"], 1)\n",
    "            target_cls = torch.argmax(class_ids, dim=1)\n",
    "            all_targets_cls.extend(target_cls.cpu().numpy())\n",
    "            all_preds_cls.extend(predicted_cls.cpu().numpy())\n",
    "\n",
    "            # Collect predictions and ground truths for toxicity regression\n",
    "            predicted_tox = outputs[\"toxicity\"].squeeze()\n",
    "            predicted_tox= torch.sigmoid(predicted_tox).round().int()\n",
    "            target_tox = toxicities.int()\n",
    "            all_targets_tox.extend(target_tox.cpu().numpy())\n",
    "            all_preds_tox.extend(predicted_tox.cpu().numpy())\n",
    "            \n",
    "\n",
    "    # Convert lists to numpy arrays\n",
    "    all_targets_cls = np.array(all_targets_cls)\n",
    "    all_preds_cls = np.array(all_preds_cls)\n",
    "    all_targets_tox = np.array(all_targets_tox)\n",
    "    all_preds_tox = np.array(all_preds_tox)\n",
    "\n",
    "    # Classification Metrics\n",
    "    print(\"\\nClassification Metrics:\")\n",
    "    sem_repot=classification_report(all_targets_cls, all_preds_cls, zero_division=1)\n",
    "    conf_matrix_cls = confusion_matrix(all_targets_cls, all_preds_cls)\n",
    "    print(\"\\nConfusion Matrix:\")\n",
    "    print(conf_matrix_cls)\n",
    "\n",
    "\n",
    "    \n",
    "\n",
    "   \n",
    "    plt.figure(figsize=(10, 8))\n",
    "    plt.imshow(conf_matrix_cls, cmap=\"viridis\")\n",
    "    plt.colorbar()\n",
    "    plt.xlabel(\"Predicted\")\n",
    "    plt.ylabel(\"True\")\n",
    "    plt.title(\"Konfúziós Mátrix osztályokra\")\n",
    "    plt.show()\n",
    "\n",
    "    # Posisiion toxicity metrics\n",
    "    print(\"\\nToxicity Metrics:\")\n",
    "    print(classification_report(all_targets_tox, all_preds_tox, zero_division=1))\n",
    "    conf_matrix_poi= confusion_matrix(all_targets_tox, all_preds_tox)\n",
    "    plt.figure(figsize=(10, 8))\n",
    "    plt.imshow(conf_matrix_poi, cmap=\"viridis\")\n",
    "    plt.colorbar()\n",
    "    plt.xlabel(\"Predicted\")\n",
    "    plt.ylabel(\"True\")\n",
    "    plt.title(\"Konfúziós mátrix mérgezőségre\")\n",
    "    plt.show()\n",
    "\n",
    "\n",
    "   \n",
    "\n",
    "    # Save metrics\n",
    "    np.save(\"confusion_matrix_poi.npy\", conf_matrix_poi)\n",
    "    np.save(\"confusion_matrix_cls.npy\", conf_matrix_cls)\n",
    "    with open(\"classification_report.txt\", \"w\") as f:\n",
    "        f.write(classification_report(all_targets_cls, all_preds_cls, zero_division=1))\n",
    "    with open(\"classification_report_poi.txt\", \"w\") as f:\n",
    "        f.write(classification_report(all_targets_tox, all_preds_tox, zero_division=1))\n",
    "    \n",
    "\n",
    "# Example call\n",
    "evaluate_model(model, valid_loader, 'cpu')\n"
   ]
  },
  {
   "cell_type": "code",
   "execution_count": 29,
   "metadata": {},
   "outputs": [],
   "source": [
    "#Save the full model for netron visualization\n",
    "torch.save(model, 'fungi_model.pth')"
   ]
  },
  {
   "cell_type": "code",
   "execution_count": null,
   "metadata": {},
   "outputs": [],
   "source": [
    "\n"
   ]
  }
 ],
 "metadata": {
  "kernelspec": {
   "display_name": ".venv",
   "language": "python",
   "name": "python3"
  },
  "language_info": {
   "codemirror_mode": {
    "name": "ipython",
    "version": 3
   },
   "file_extension": ".py",
   "mimetype": "text/x-python",
   "name": "python",
   "nbconvert_exporter": "python",
   "pygments_lexer": "ipython3",
   "version": "3.10.11"
  }
 },
 "nbformat": 4,
 "nbformat_minor": 2
}
